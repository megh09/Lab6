{
 "cells": [
  {
   "cell_type": "code",
   "execution_count": 41,
   "metadata": {},
   "outputs": [
    {
     "name": "stdout",
     "output_type": "stream",
     "text": [
      "Total instances in the dataset: 18\n"
     ]
    }
   ],
   "source": [
    "import pandas as pd\n",
    "msg = pd.read_csv('C:/Users/Megh/Desktop/4MTCS057/data2.csv',names=['message','label'])\n",
    "print('Total instances in the dataset:',msg.shape[0])"
   ]
  },
  {
   "cell_type": "code",
   "execution_count": 42,
   "metadata": {},
   "outputs": [
    {
     "name": "stdout",
     "output_type": "stream",
     "text": [
      "\n",
      " The message and its label of first 5 instances are listed below\n",
      "I love this sandwich , pos\n",
      "This is an amazing place , pos\n",
      "I feel very good about these beers , pos\n",
      "This is my best work , pos\n",
      "What an awesome view , pos\n",
      "\n",
      " Dataset is split into Training and Testing Samples\n",
      "Total training instances: 13\n",
      "Total testing instances: 5\n"
     ]
    }
   ],
   "source": [
    "msg['labelnum']=msg.label.map({'pos':1,'neg':0})\n",
    "X=msg.message\n",
    "Y=msg.labelnum\n",
    "print('\\n The message and its label of first 5 instances are listed below')\n",
    "X5,Y5=X[0:5], msg.label[0:5]\n",
    "for x,y in zip(X5,Y5):\n",
    "    print(x,',',y)\n",
    "from sklearn.model_selection import train_test_split\n",
    "xtrain,xtest,ytrain,ytest=train_test_split(X,Y)\n",
    "print('\\n Dataset is split into Training and Testing Samples')\n",
    "print('Total training instances:',xtrain.shape[0])\n",
    "print('Total testing instances:',xtest.shape[0])"
   ]
  },
  {
   "cell_type": "code",
   "execution_count": 43,
   "metadata": {},
   "outputs": [
    {
     "name": "stdout",
     "output_type": "stream",
     "text": [
      "\n",
      " Total features extracted using CountVectorizor: 43\n",
      "\n",
      " Features for first 5 training instances are listed below\n",
      "   about  am  amazing  an  and  awesome  beers  best  boss  cant  ...  this  \\\n",
      "0      0   0        0   0    0        0      0     1     0     0  ...     1   \n",
      "1      0   0        0   0    0        0      0     0     0     0  ...     0   \n",
      "2      0   0        1   1    0        0      0     0     0     0  ...     1   \n",
      "3      0   0        0   0    0        0      0     0     1     0  ...     0   \n",
      "4      0   1        0   0    1        0      0     0     0     0  ...     1   \n",
      "\n",
      "   tired  tomorow  very  view  we  what  will  with  work  \n",
      "0      0        0     0     0   0     0     0     0     1  \n",
      "1      0        0     0     0   0     1     0     0     0  \n",
      "2      0        0     0     0   0     0     0     0     0  \n",
      "3      0        0     0     0   0     0     0     0     0  \n",
      "4      1        0     0     0   0     0     0     0     0  \n",
      "\n",
      "[5 rows x 43 columns]\n"
     ]
    }
   ],
   "source": [
    "from sklearn.feature_extraction.text import CountVectorizer\n",
    "count_vect=CountVectorizer()\n",
    "xtrain_dtm=count_vect.fit_transform(xtrain)#Sparse matrix\n",
    "xtest_dtm=count_vect.transform(xtest)\n",
    "print('\\n Total features extracted using CountVectorizor:',xtrain_dtm.shape[1])\n",
    "print('\\n Features for first 5 training instances are listed below')\n",
    "df=pd.DataFrame(xtrain_dtm.toarray(),columns=count_vect.get_feature_names())\n",
    "print(df[0:5])"
   ]
  },
  {
   "cell_type": "code",
   "execution_count": 44,
   "metadata": {},
   "outputs": [
    {
     "name": "stdout",
     "output_type": "stream",
     "text": [
      "\n",
      " Classification results of testing samples are given below\n"
     ]
    }
   ],
   "source": [
    "from sklearn.naive_bayes import MultinomialNB\n",
    "clf=MultinomialNB().fit(xtrain_dtm,ytrain)\n",
    "predicted=clf.predict(xtest_dtm)\n",
    "print('\\n Classification results of testing samples are given below')"
   ]
  },
  {
   "cell_type": "code",
   "execution_count": 45,
   "metadata": {},
   "outputs": [
    {
     "name": "stdout",
     "output_type": "stream",
     "text": [
      "I am tired of this stuff->neg\n",
      "I love to dance->pos\n",
      "I went to my enemy's house today->pos\n",
      "That is a bad locality to stay->pos\n",
      "He is my sworn enemy->pos\n"
     ]
    }
   ],
   "source": [
    "for doc,p in zip(xtest,predicted):\n",
    "    pred='pos' if p==1 else 'neg'\n",
    "    print('%s->%s' %(doc,pred))"
   ]
  },
  {
   "cell_type": "code",
   "execution_count": 46,
   "metadata": {},
   "outputs": [
    {
     "name": "stdout",
     "output_type": "stream",
     "text": [
      "\n",
      " Accuracy metrics\n",
      "Accuracy of the classifier is 0.4\n",
      "Recall: 1.0 \n",
      "Precision: 0.25\n",
      "Confusion matrix\n",
      "[[1 3]\n",
      " [0 1]]\n"
     ]
    }
   ],
   "source": [
    "from sklearn import metrics\n",
    "print('\\n Accuracy metrics')\n",
    "print('Accuracy of the classifier is',metrics.accuracy_score(ytest,predicted))\n",
    "print('Recall:',metrics.recall_score(ytest,predicted),'\\nPrecision:',metrics.precision_score(ytest,predicted))\n",
    "print('Confusion matrix')\n",
    "print(metrics.confusion_matrix(ytest,predicted))"
   ]
  },
  {
   "cell_type": "code",
   "execution_count": null,
   "metadata": {},
   "outputs": [],
   "source": []
  }
 ],
 "metadata": {
  "kernelspec": {
   "display_name": "Python 3",
   "language": "python",
   "name": "python3"
  },
  "language_info": {
   "codemirror_mode": {
    "name": "ipython",
    "version": 3
   },
   "file_extension": ".py",
   "mimetype": "text/x-python",
   "name": "python",
   "nbconvert_exporter": "python",
   "pygments_lexer": "ipython3",
   "version": "3.7.4"
  }
 },
 "nbformat": 4,
 "nbformat_minor": 4
}
